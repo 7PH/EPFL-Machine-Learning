{
 "cells": [
  {
   "cell_type": "code",
   "execution_count": 2,
   "metadata": {
    "collapsed": false
   },
   "outputs": [
    {
     "name": "stdout",
     "output_type": "stream",
     "text": [
      "The autoreload extension is already loaded. To reload it, use:\n",
      "  %reload_ext autoreload\n"
     ]
    }
   ],
   "source": [
    "# Useful starting lines\n",
    "%matplotlib inline\n",
    "import numpy as np\n",
    "import matplotlib.pyplot as plt\n",
    "%load_ext autoreload\n",
    "%autoreload 2"
   ]
  },
  {
   "cell_type": "markdown",
   "metadata": {},
   "source": [
    "# Support Vector Machines\n",
    "## Classification Using SVM\n",
    "Load dataset. We will re-use the CERN dataset from project 1, available from https://inclass.kaggle.com/c/epfml-project-1/data"
   ]
  },
  {
   "cell_type": "code",
   "execution_count": 7,
   "metadata": {
    "collapsed": false
   },
   "outputs": [],
   "source": [
    "from proj1_helpers import load_csv_data\n",
    "DATA_TRAIN_PATH = '../data/train.csv' # TODO: download train data and supply path here \n",
    "y, x, ids = load_csv_data(DATA_TRAIN_PATH)\n",
    "# TODO: convert labels to -1,1 ?\n",
    "\n",
    "## Note: This is the raw dataset, you can also work with your modified features if you prefer"
   ]
  },
  {
   "cell_type": "code",
   "execution_count": null,
   "metadata": {
    "collapsed": true
   },
   "outputs": [],
   "source": [
    "def calculate_cost(y, x, w, lambda_):\n",
    "    \"\"\"compute the full cost (the primal objective), that is loss plus regularizer.\"\"\"\n",
    "    # Here x is the full dataset matrix, and y are the corresponding +1 or -1 labels\n",
    "    # ***************************************************\n",
    "    # INSERT YOUR CODE HERE\n",
    "    # TODO\n",
    "    # ***************************************************\n",
    "    raise NotImplementedError"
   ]
  },
  {
   "cell_type": "markdown",
   "metadata": {},
   "source": [
    "Compute the (stochastic) subgradient for the n-th summand of the SVM optimization objective"
   ]
  },
  {
   "cell_type": "code",
   "execution_count": 8,
   "metadata": {
    "collapsed": true
   },
   "outputs": [],
   "source": [
    "def calculate_gradient(y, x, w, lambda_, n):\n",
    "    \"\"\"compute the stochastic gradient of loss plus regularizer.\"\"\"\n",
    "    # Here x is one datapoint, and y is the corresponding +1 or -1 label\n",
    "    # \n",
    "    # ***************************************************\n",
    "    # INSERT YOUR CODE HERE\n",
    "    # TODO\n",
    "    # ***************************************************\n",
    "    # Be careful about the constant N(size) term! The complete objective for SVM is a sum, not an average as in earlier SGD examples!\n",
    "    raise NotImplementedError"
   ]
  },
  {
   "cell_type": "markdown",
   "metadata": {},
   "source": [
    "Implement stochastic gradient descent by picking a data point uniformly at random and updating w based on the gradient for the nth summand of the objective"
   ]
  },
  {
   "cell_type": "code",
   "execution_count": null,
   "metadata": {
    "collapsed": true
   },
   "outputs": [],
   "source": [
    "def sgd_for_svm_demo(y, x):\n",
    "    # ***************************************************\n",
    "    # INSERT YOUR CODE HERE\n",
    "    # classify the data by SGD for SVM: TODO\n",
    "    # ***************************************************\n",
    "    max_iter = 10000\n",
    "    gamma = 0.001\n",
    "    lambda_ = 1.0 / y.shape[0]  # or set to a different value, try cross-validation!\n",
    "    \n",
    "    w = np.zeros((x.shape[1], 1))\n",
    "    \n",
    "    for iter in range(max_iter):\n",
    "        # n = sample one data point uniformly at random data from x\n",
    "        raise NotImplemented\n",
    "        # loss = \n",
    "        # grad = TODO don't forget about the regularizer term\n",
    "        # w = update w\n",
    "        raise NotImplemented\n",
    "        \n",
    "        if iter % 1000 == 0:\n",
    "            print(\"Current iteration={i}, the loss={l}\".format(i=iter, l=loss))\n",
    "    \n",
    "    print(\"Objective = {l}\".format(l=calculate_cost(y, x, w, lambda_)))\n",
    "\n",
    "sgd_for_svm_demo(y, x)"
   ]
  },
  {
   "cell_type": "markdown",
   "metadata": {},
   "source": [
    "## Coordinate Descent (Ascent) for SVM"
   ]
  },
  {
   "cell_type": "markdown",
   "metadata": {},
   "source": [
    "Compute the gradient for the nth summand of the dual optimization problem"
   ]
  },
  {
   "cell_type": "code",
   "execution_count": null,
   "metadata": {
    "collapsed": true
   },
   "outputs": [],
   "source": [
    "def calculate_coordinate_update(y, x, lambda_, w):\n",
    "    # Here x is one datapoint, and y is the corresponding +1 or -1 label\n",
    "    # \n",
    "    # ***************************************************\n",
    "    # INSERT YOUR CODE HERE\n",
    "    # TODO\n",
    "    # ***************************************************\n",
    "    raise NotImplementedError"
   ]
  },
  {
   "cell_type": "code",
   "execution_count": null,
   "metadata": {
    "collapsed": true
   },
   "outputs": [],
   "source": [
    "def coordinate_descent_for_svm_demo(y, x):\n",
    "    # ***************************************************\n",
    "    # INSERT YOUR CODE HERE\n",
    "    # classify the data by SGD for SVM: TODO\n",
    "    # ***************************************************\n",
    "    max_iter = 10000\n",
    "    gamma = 0.001\n",
    "    lambda_ = 1.0 / y.shape[0]\n",
    "\n",
    "    w = np.zeros((x.shape[1], 1))\n",
    "    \n",
    "    for iter in range(max_iter):\n",
    "        # n = uniformly random data point from x\n",
    "        raise NotImplemented\n",
    "        # loss = \n",
    "        # alpha = update alpha_n\n",
    "        raise NotImplemented\n",
    "        # w = update w from alpha\n",
    "        raise NotImplemented\n",
    "        \n",
    "        if iter % 1000 == 0:\n",
    "            print(\"Current iteration={i}, the loss={l}\".format(i=iter, l=loss))\n",
    "    \n",
    "    print(\"Primal objective = {l}\".format(l=calculate_cost(y, x, w, lambda_)))\n",
    "\n",
    "coordinate_descent_for_svm_demo(y, x)"
   ]
  }
 ],
 "metadata": {
  "anaconda-cloud": {},
  "kernelspec": {
   "display_name": "Python [Root]",
   "language": "python",
   "name": "Python [Root]"
  },
  "language_info": {
   "codemirror_mode": {
    "name": "ipython",
    "version": 3
   },
   "file_extension": ".py",
   "mimetype": "text/x-python",
   "name": "python",
   "nbconvert_exporter": "python",
   "pygments_lexer": "ipython3",
   "version": "3.5.2"
  }
 },
 "nbformat": 4,
 "nbformat_minor": 0
}
